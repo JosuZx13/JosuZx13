{
  "nbformat": 4,
  "nbformat_minor": 0,
  "metadata": {
    "colab": {
      "name": "MachineLearningAPI.ipynb",
      "provenance": [],
      "collapsed_sections": [],
      "authorship_tag": "ABX9TyNBa4pmdQPd2jOJWjzqJf5a",
      "include_colab_link": true
    },
    "kernelspec": {
      "name": "python3",
      "display_name": "Python 3"
    },
    "language_info": {
      "name": "python"
    }
  },
  "cells": [
    {
      "cell_type": "markdown",
      "metadata": {
        "id": "view-in-github",
        "colab_type": "text"
      },
      "source": [
        "<a href=\"https://colab.research.google.com/github/JosuZx13/JosuZx13/blob/main/MachineLearningAPI.ipynb\" target=\"_parent\"><img src=\"https://colab.research.google.com/assets/colab-badge.svg\" alt=\"Open In Colab\"/></a>"
      ]
    },
    {
      "cell_type": "markdown",
      "source": [
        "# **TFG - ALBA CASILLAS**\n",
        "\n",
        "**Machine Learning API**"
      ],
      "metadata": {
        "id": "rC0AkyAwB4Ue"
      }
    },
    {
      "cell_type": "code",
      "execution_count": null,
      "metadata": {
        "id": "YjXi5w-KBaT1"
      },
      "outputs": [],
      "source": [
        "from google.colab import drive\n",
        "drive.mount(\"/content/drive\") # Se monta el Drive\n",
        "\n",
        "from google.colab import files"
      ]
    },
    {
      "cell_type": "code",
      "source": [
        "!cp /content/drive/MyDrive/TFG_Alba/rnapi.py /content"
      ],
      "metadata": {
        "id": "aj4ZgfqqCqU_"
      },
      "execution_count": null,
      "outputs": []
    },
    {
      "cell_type": "code",
      "source": [
        "!pip install colored\n",
        "# Dependencias\n",
        "!pip install -U kaleido"
      ],
      "metadata": {
        "id": "H1SLt23YC69i"
      },
      "execution_count": null,
      "outputs": []
    },
    {
      "cell_type": "markdown",
      "source": [
        "# ===========================================\n",
        "# SEMILLA AJUSTADA A 1\n",
        "# ==========================================="
      ],
      "metadata": {
        "id": "8uQhnx8uDKN6"
      }
    },
    {
      "cell_type": "code",
      "source": [
        "import random\n",
        "random.seed(1)"
      ],
      "metadata": {
        "id": "NPhoH5RuDJ9G"
      },
      "execution_count": null,
      "outputs": []
    },
    {
      "cell_type": "markdown",
      "source": [
        "# ========================================\n",
        "# ~ READ DATA\n",
        "# ========================================\n"
      ],
      "metadata": {
        "id": "1JPp9fM-DgbM"
      }
    },
    {
      "cell_type": "code",
      "source": [
        "data_object = rna.create_tcga_query(project = \"TCGA-BRCA\", data_category = \"TRANSCRIPTOME PROFILING\", data_type = \"Gene Expression Quantification\",\n",
        "                        experimental_strategy = \"RNA-Seq\")\n",
        "\n",
        "# ProcessTCGA.download_data(data_object)\n",
        "\n",
        "# data = ProcessTCGA.read_rna(\"TCGA-BRCA\")\n",
        "\n",
        "# data.to_csv(r'D:/TFG_archivos/info_y_copias/OOB_API/brca_counts.txt', sep='\\t')\n",
        "\n",
        "count_data = rna.read_file(\"brca_counts.txt\", index = \"gene_id\", sep=\"\\t\")\n",
        "\n",
        "clinical_data = rna.tcga_read_clinical(\"TCGA-BRCA/nationwidechildrens.org_clinical_patient_brca.txt\")\n",
        "\n",
        "gene_info = rna.read_file(\"gene_info_brca.tsv\", index = \"gene_id\", sep=\"\\t\")"
      ],
      "metadata": {
        "id": "SuQwOuYZDg9h"
      },
      "execution_count": null,
      "outputs": []
    },
    {
      "cell_type": "markdown",
      "source": [
        "# ===========================================\n",
        "# ~ CREATE DATA OBJECT\n",
        "# ==========================================="
      ],
      "metadata": {
        "id": "cnKqIbRKDvIN"
      }
    },
    {
      "cell_type": "code",
      "source": [
        "data_object = rna.create_data_object(count_data, obs_ = clinical_data, var_ = gene_info)\n",
        "\n",
        "data_object.summary_object()\n",
        "print(\"\\n\\n\")\n",
        "\n",
        "\n",
        "# Define a list of Log to create a Pipeline\n",
        "logs = []"
      ],
      "metadata": {
        "id": "54oMjxk5D5qU"
      },
      "execution_count": null,
      "outputs": []
    },
    {
      "cell_type": "markdown",
      "source": [
        "# ============================================================\n",
        "# ~ CLEANING CLINICAL DATA\n",
        "# ============================================================"
      ],
      "metadata": {
        "id": "SpbvP-oRD-Fk"
      }
    },
    {
      "cell_type": "code",
      "source": [
        "data_object = rna.obs_replace(data_object, to_replace = [ \"[Discrepancy]\", \"[Not Available]\", \"[Not Applicable]\"])\n",
        "\n",
        "data_object.summary_object()"
      ],
      "metadata": {
        "id": "9IEKiviGEDMv"
      },
      "execution_count": null,
      "outputs": []
    },
    {
      "cell_type": "markdown",
      "source": [
        "# ============================================================\n",
        "# ~ FILTER SAMPLES\n",
        "# ============================================================"
      ],
      "metadata": {
        "id": "9I5NNFx-EG1X"
      }
    },
    {
      "cell_type": "code",
      "source": [
        "# Check distribution of gender and histological_type\n",
        "\n",
        "print(\"Distribution of gender:\\n\")\n",
        "\n",
        "rna.count_types(data_object.get_obs(), \"gender\")\n",
        "\n",
        "\n",
        "print(\"\\n\\n\")\n",
        "print(\"Distribution of histological type:\\n\")\n",
        "\n",
        "\n",
        "rna.count_types(data_object.get_obs(), \"histological_type\")\n",
        "\n",
        "\n",
        "print(\"\\n\\n\")\n",
        "\n",
        "\n",
        "# Filter samples to female with the most frequent histological subtype and sample subtype\n",
        "\n",
        "series_condition_rows = (data_object.get_obs()[\"histological_type\"].str.lower() == 'infiltrating ductal carcinoma') & (data_object.get_obs()[\"gender\"].str.lower() == 'female')\n",
        "\n",
        "extracted_by_series = rna.data_selection_series(series_condition_rows, data_object.get_obs())\n",
        "\n",
        "data_object = rna.set_obs(data_object, extracted_by_series)\n",
        "\n",
        "# data_object.summary_object()\n",
        "\n",
        "rna.count_types(data_object.get_obs(), \"pathologic_stage\")"
      ],
      "metadata": {
        "id": "v-Jvq1hWEL2w"
      },
      "execution_count": null,
      "outputs": []
    },
    {
      "cell_type": "markdown",
      "source": [
        "# ============================================================\n",
        "# ~ ASSIGN A LABEL TO EACH EXAMPLE OF THE DATASET\n",
        "# ============================================================"
      ],
      "metadata": {
        "id": "1idrpifqEQmx"
      }
    },
    {
      "cell_type": "code",
      "source": [
        "obs_with_new_column = rna.add_column(data_object.get_obs(), \"label\", rna.ut.np.ones(data_object.obs_num_rows(), dtype=int))\n",
        "\n",
        "\n",
        "mask_pathologic = data_object.get_obs()[\"pathologic_stage\"].str.lower().isin(['stage i','stage ia','stage ib','stage ii','stage iia','stage iib'])\n",
        "\n",
        "obs_with_new_column.loc[mask_pathologic, \"label\"] = 0\n",
        "\n",
        "\n",
        "data_object = rna.set_obs(data_object, obs_with_new_column)\n",
        "\n",
        "\n",
        "\n",
        "rna.count_types(data_object.get_obs(), \"label\")"
      ],
      "metadata": {
        "id": "21HJot69EVUU"
      },
      "execution_count": null,
      "outputs": []
    },
    {
      "cell_type": "markdown",
      "source": [
        "# ============================================================\n",
        "# ~ CLINICAL FEATURES\n",
        "# ============================================================"
      ],
      "metadata": {
        "id": "0v6n72PBEanK"
      }
    },
    {
      "cell_type": "code",
      "source": [
        "clinical = rna.data_projection_list(data_object.get_obs(), [\"age_at_initial_pathologic_diagnosis\",\"race\"])\n",
        "\n",
        "\n",
        "for i in clinical.columns.drop(\"age_at_initial_pathologic_diagnosis\"):\n",
        "    print(data_object.get_obs().groupby([i, \"label\"]).count().iloc[:,1])\n",
        "    \n",
        "\n",
        "data_object.get_obs()[\"age_at_initial_pathologic_diagnosis\"] = data_object.get_obs()[\"age_at_initial_pathologic_diagnosis\"].astype(float)\n",
        "\n",
        "\n",
        "data_subtype = rna.copy_object(data_object.get_obs())\n",
        "\n",
        "\n",
        "# 0 means early stage, 1 means late\n",
        "fig = rna.box_plot(data_object.get_obs(), x = \"label\", y= \"age_at_initial_pathologic_diagnosis\")\n",
        "\n",
        "#rna.show_figure(fig, xlabel = \"label\", ylabel = \"stage\", legend = False, title = \"age at diagnosis vs. stage\")\n",
        "\n",
        "rna.save_image(fig, fig_name = \"ml_box_plot\", xlabel = \"label\", ylabel = \"stage\", legend = False, title = \"age at diagnosis vs. stage\")"
      ],
      "metadata": {
        "id": "w7khiRZTEecv"
      },
      "execution_count": null,
      "outputs": []
    },
    {
      "cell_type": "markdown",
      "source": [
        "# ============================================================\n",
        "# ~ DROP GENE COLUMNS CONTAINING MORE THAN 10% NA\n",
        "# ============================================================"
      ],
      "metadata": {
        "id": "c0R2LaRZEi_3"
      }
    },
    {
      "cell_type": "code",
      "source": [
        "data_object = rna.counts_replace(data_object, 0)\n",
        "\n",
        "\n",
        "# Calculate the thresh\n",
        "perc = 10.0\n",
        "min_count = int(((100-perc)/100)*data_object.counts_num_columns() + 1)\n",
        "\n",
        "# mod_data = data.dropna( axis = 0, thresh = min_count)\n",
        "\n",
        "data_object = rna.counts_drop_nan_by_thresh(data_object, 0, min_count)\n",
        "\n",
        "\n",
        "data_object = rna.counts_replace_nan(data_object)\n",
        "\n",
        "\n",
        "\n",
        "print(\"IS THERE NAN VALUES???? \")\n",
        "\n",
        "print(data_object.get_counts().isnull().values.any())\n",
        "\n",
        "print(data_object.get_counts().isnull().sum().sum())"
      ],
      "metadata": {
        "id": "cl6H5nF-EywP"
      },
      "execution_count": null,
      "outputs": []
    },
    {
      "cell_type": "markdown",
      "source": [
        "# ============================================================\n",
        "# GENERATE YOU PROCESSED FEATURE VECTOR FOR EACH EXAMPLE\n",
        "# ============================================================"
      ],
      "metadata": {
        "id": "K-4fjblPE2wg"
      }
    },
    {
      "cell_type": "code",
      "source": [
        "data_transpose = rna.transpose(data_object.get_counts())\n",
        "\n",
        "# Calculate variance of genes\n",
        "#var = dict(zip(data_transpose.var().index, data_transpose.var()))\n",
        "\n",
        "# index without values and list are index_base, and var() is Series\n",
        "var = rna.list_zip(list(data_transpose.var().index.values), data_transpose.var().tolist())\n",
        "\n",
        "# Sort genes by variance\n",
        "\n",
        "var_sort = sorted(var.items(), key=lambda d: d[1], reverse=True)\n",
        "\n",
        "# Find top 1000 genes\n",
        "\n",
        "var_1000 = [i for i, j in var_sort[0:1000]]\n",
        "\n",
        "\n",
        "# FILTERS GNAMES TO GENES_100 (1000)\n",
        "\n",
        "gnames = rna.data_zip(data_object.get_var(), \"gene_id\", \"gene_name\")\n",
        "\n",
        "\n",
        "genes_1000 = rna.filter_dictionary(gnames, var_1000)\n",
        "\n",
        "\n",
        "genes_7 = [\"MYC\", \"PIK3CA\", \"TP53\", \"BRCA1\", \"BRCA2\", \"CDH1\", \"PTEN\"]\n",
        "lkgenes_7 = []\n",
        "\n",
        "for gen in genes_7:\n",
        "    \n",
        "    if gen not in list(genes_1000.values()):\n",
        "        \n",
        "        kgenes_7 = list(gnames.keys())[list(gnames.values()).index(gen)]\n",
        "        lkgenes_7.append(kgenes_7)\n",
        "\n",
        "\n",
        "# Select 1007 genes\n",
        "print(len(list(genes_1000.keys())))\n",
        "\n",
        "data_object = rna.counts_selection(data_object, (list(genes_1000.keys()) + lkgenes_7))\n",
        "\n",
        "\n",
        "data_object.summary_object()"
      ],
      "metadata": {
        "id": "HCMJz7xDE9Jp"
      },
      "execution_count": null,
      "outputs": []
    },
    {
      "cell_type": "markdown",
      "source": [
        "# ============================================================\n",
        "# REMOVE HIGH CORRELATED VARIABLES\n",
        "# ============================================================"
      ],
      "metadata": {
        "id": "9bIDfu-MFBrh"
      }
    },
    {
      "cell_type": "code",
      "source": [
        "print(\"Find high Correlation\\n\")\n",
        "# Find high correlation\n",
        "\n",
        "corr = rna.var_correlation(data_object.get_counts())\n",
        "\n",
        "\n",
        "fig = rna.heatmap(x = corr.columns, y = corr.index, z = rna.ut.np.array(corr))\n",
        "\n",
        "# rna.show_figure(fig, xlabel = \"x axis\", ylabel = \"y axis\", legend = False, title = \"Correlation between variables\")\n",
        "\n",
        "rna.save_image(fig, fig_name = \"ml_heatmap\", xlabel = \"x axis\", ylabel = \"y axis\", legend = False, title = \"Correlation between variables\")\n",
        "\n",
        "genes = rna.remove_correlation(data_object.get_counts(), 0.6)\n",
        "\n",
        "# genes = qa.transpose(genes)\n",
        "\n",
        "# print(genes.shape) (878, 506)\n",
        "\n",
        "#genes = genes[genes.index.isin(data_subtype.index)]\n",
        "\n",
        "genes = rna.data_selection_list(genes, list(data_subtype.index.values))\n",
        "\n",
        "final_data = genes\n",
        "\n",
        "# def update_column_values\n",
        "final_data[\"label\"] = data_subtype.label\n",
        "\n",
        "print(final_data)"
      ],
      "metadata": {
        "id": "snDy_fUSFJGE"
      },
      "execution_count": null,
      "outputs": []
    },
    {
      "cell_type": "markdown",
      "source": [
        "\"\"\"# =============================================================================\n",
        "#                              MACHINE LEARNING\n",
        "# =============================================================================\n",
        "\"\"\""
      ],
      "metadata": {
        "id": "2hKAxa-AFN3M"
      }
    },
    {
      "cell_type": "markdown",
      "source": [
        "# ============================================================\n",
        "# MODELO UNO\n",
        "# ============================================================"
      ],
      "metadata": {
        "id": "NelTsMEcFR2w"
      }
    },
    {
      "cell_type": "code",
      "source": [
        "print(\"MODELO UNO:\\n\")\n",
        "\n",
        "data = rna.ModelSelection(final_data.copy())\n",
        "\n",
        "data.split_data()\n",
        "\n",
        "data.get_train_test_sample(test_size = 0.2, resample = True)\n",
        "\n",
        "data.standarize()\n",
        "\n",
        "print(\"\\n\\n\")\n",
        "models = []\n",
        "\n",
        "models.append(rna.model_.LogisticRegression('LR', solver='lbfgs', max_iter=1000))\n",
        "models.append(rna.model_.RandomForest('RF', n_estimators=500))\n",
        "models.append(rna.model_.ScikitLearnModel('GNB', rna.model_.GaussianNB()))\n",
        "models.append(rna.model_.SupportVectorClassif('SVC', kernel = 'sigmoid',probability=True))\n",
        "models.append(rna.model_.MLPerceptron('MLP', max_iter = 500, hidden_layer_sizes=(5,5,5)))\n",
        "\n",
        "model_results = rna.ut.pd.DataFrame()\n",
        "\n",
        "\n",
        "for model_for in models:   \n",
        "    \n",
        "    print('Fitting: ', model_for.get_name())\n",
        "    \n",
        "    model_for.fit(data.get_X_train(), data.get_Y_train())\n",
        "    \n",
        "    # Devuelve la probabilidad de que sea 0 o 1\n",
        "    predictions_proba = data.predict_proba(model_for)\n",
        "    # Nos quedamos con los que superen el 50% de la probabilidad\n",
        "    predictions = data.get_predictions(predictions_proba, 0.5)    \n",
        "    \n",
        "    metrics = model_for.get_metrics(data.get_Y_test(), predictions, predictions_proba)\n",
        "   \n",
        "    model_results = rna.ut.pd.concat([model_results, metrics], axis=0) \n",
        "\n",
        "\n",
        "print(model_results)"
      ],
      "metadata": {
        "id": "qfYsDjtUFXJb"
      },
      "execution_count": null,
      "outputs": []
    },
    {
      "cell_type": "markdown",
      "source": [
        "# ============================================================\n",
        "# MODELO DOS\n",
        "# ============================================================"
      ],
      "metadata": {
        "id": "G56JmErDFcP8"
      }
    },
    {
      "cell_type": "code",
      "source": [
        "print(\"MODELO DOS:\\n\")\n",
        "\n",
        "tmp = final_data.copy()\n",
        "\n",
        "data7 = tmp.drop(lkgenes_7,axis=1)\n",
        "\n",
        "data = rna.ModelSelection(data7)\n",
        "\n",
        "data.split_data()\n",
        "\n",
        "data.get_train_test_sample(test_size = 0.2, resample = True)\n",
        "\n",
        "data.standarize()\n",
        "\n",
        "print(\"\\n\\n\")\n",
        "models = []\n",
        "\n",
        "models.append(rna.model_.LogisticRegression('LR', solver='lbfgs', max_iter=1000))\n",
        "models.append(rna.model_.RandomForest('RF', n_estimators=500))\n",
        "models.append(rna.model_.ScikitLearnModel('GNB', rna.model_.GaussianNB()))\n",
        "models.append(rna.model_.SupportVectorClassif('SVC', kernel = 'sigmoid',probability=True))\n",
        "models.append(rna.model_.MLPerceptron('MLP', max_iter = 500, hidden_layer_sizes=(5,5,5)))\n",
        "\n",
        "model_results = rna.ut.pd.DataFrame()\n",
        "\n",
        "\n",
        "\n",
        "for model_for in models:   \n",
        "    \n",
        "    print('Fitting: ', model_for.get_name())\n",
        "    \n",
        "    model_for.fit(data.get_X_train(), data.get_Y_train())\n",
        "    \n",
        "    # Devuelve la probabilidad de que sea 0 o 1\n",
        "    predictions_proba = data.predict_proba(model_for)\n",
        "    # Nos quedamos con los que superen el 50% de la probabilidad\n",
        "    predictions = data.get_predictions(predictions_proba, 0.5)    \n",
        "    \n",
        "    metrics = model_for.get_metrics(data.get_Y_test(), predictions, predictions_proba)\n",
        "   \n",
        "    model_results = rna.ut.pd.concat([model_results, metrics], axis=0) \n",
        "\n",
        "print(model_results)"
      ],
      "metadata": {
        "id": "rcKUIoF1FhKc"
      },
      "execution_count": null,
      "outputs": []
    },
    {
      "cell_type": "markdown",
      "source": [
        "# ============================================================\n",
        "# MODELO TRES\n",
        "# ============================================================"
      ],
      "metadata": {
        "id": "8XBvxUycFk6N"
      }
    },
    {
      "cell_type": "code",
      "source": [
        "print(\"MODELO TRES:\\n\")\n",
        "\n",
        "tmp = final_data.copy()\n",
        "\n",
        "label = tmp.label\n",
        "\n",
        "tmp = rna.ut.pd.concat([tmp.iloc[:,:100],tmp.loc[:,lkgenes_7]], axis=1)\n",
        "dup_cols = tmp.columns[tmp.columns.duplicated()]\n",
        "tmp.drop(columns = dup_cols, inplace = True)\n",
        "\n",
        "tmp['label'] = label\n",
        "\n",
        "data107 = tmp.copy()\n",
        "\n",
        "data = rna.ModelSelection(data107)\n",
        "\n",
        "data.split_data()\n",
        "\n",
        "data.get_train_test_sample(test_size = 0.2, resample = True)\n",
        "\n",
        "data.standarize()\n",
        "\n",
        "print(\"\\n\\n\")\n",
        "models = []\n",
        "\n",
        "models.append(rna.model_.LogisticRegression('LR', solver='lbfgs', max_iter=1000))\n",
        "models.append(rna.model_.RandomForest('RF', n_estimators=500))\n",
        "models.append(rna.model_.ScikitLearnModel('GNB', rna.model_.GaussianNB()))\n",
        "models.append(rna.model_.SupportVectorClassif('SVC', kernel = 'sigmoid',probability=True))\n",
        "models.append(rna.model_.MLPerceptron('MLP', max_iter = 500, hidden_layer_sizes=(5,5,5)))\n",
        "\n",
        "model_results = rna.ut.pd.DataFrame()\n",
        "\n",
        "\n",
        "\n",
        "for model_for in models:   \n",
        "    \n",
        "    print('Fitting: ', model_for.get_name())\n",
        "    \n",
        "    model_for.fit(data.get_X_train(), data.get_Y_train())\n",
        "    \n",
        "    # Devuelve la probabilidad de que sea 0 o 1\n",
        "    predictions_proba = data.predict_proba(model_for)\n",
        "    # Nos quedamos con los que superen el 50% de la probabilidad\n",
        "    predictions = data.get_predictions(predictions_proba, 0.5)    \n",
        "    \n",
        "    metrics = model_for.get_metrics(data.get_Y_test(), predictions, predictions_proba)\n",
        "   \n",
        "    model_results = rna.ut.pd.concat([model_results, metrics], axis=0) \n",
        "\n",
        "print(model_results)"
      ],
      "metadata": {
        "id": "LfDmXfgiFsJ6"
      },
      "execution_count": null,
      "outputs": []
    },
    {
      "cell_type": "markdown",
      "source": [
        "# ============================================================\n",
        "# MODELO CUATRO\n",
        "# ============================================================"
      ],
      "metadata": {
        "id": "Q_8jaBKwFxs4"
      }
    },
    {
      "cell_type": "code",
      "source": [
        "print(\"MODELO CUATRO: \")\n",
        "\n",
        "\n",
        "tmp = final_data.copy()\n",
        "\n",
        "label = tmp.label\n",
        "\n",
        "data = rna.ut.pd.concat([tmp.iloc[:,:50],tmp.loc[:,lkgenes_7]], axis=1)\n",
        "dup_cols = tmp.columns[tmp.columns.duplicated()]\n",
        "tmp.drop(columns = dup_cols, inplace = True)\n",
        "\n",
        "tmp['label']=label\n",
        "\n",
        "data57 = tmp.copy()   \n",
        "\n",
        "data = rna.ModelSelection(data57)\n",
        "\n",
        "data.split_data()\n",
        "\n",
        "data.get_train_test_sample(test_size = 0.2, resample = True)\n",
        "\n",
        "data.standarize()\n",
        "\n",
        "print(\"\\n\\n\")\n",
        "models = []\n",
        "\n",
        "models.append(rna.model_.LogisticRegression('LR', solver='lbfgs', max_iter=1000))\n",
        "models.append(rna.model_.RandomForest('RF', n_estimators=500))\n",
        "models.append(rna.model_.ScikitLearnModel('GNB', rna.model_.GaussianNB()))\n",
        "models.append(rna.model_.SupportVectorClassif('SVC', kernel = 'sigmoid',probability=True))\n",
        "models.append(rna.model_.MLPerceptron('MLP', max_iter = 500, hidden_layer_sizes=(5,5,5)))\n",
        "\n",
        "model_results = rna.ut.pd.DataFrame()\n",
        "\n",
        "\n",
        "for model_for in models:   \n",
        "    \n",
        "    print('Fitting: ', model_for.get_name())\n",
        "    \n",
        "    model_for.fit(data.get_X_train(), data.get_Y_train())\n",
        "    \n",
        "    # Devuelve la probabilidad de que sea 0 o 1\n",
        "    predictions_proba = data.predict_proba(model_for)\n",
        "    # Nos quedamos con los que superen el 50% de la probabilidad\n",
        "    predictions = data.get_predictions(predictions_proba, 0.5)    \n",
        "    \n",
        "    metrics = model_for.get_metrics(data.get_Y_test(), predictions, predictions_proba)\n",
        "   \n",
        "    model_results = rna.ut.pd.concat([model_results, metrics], axis=0) \n",
        "\n",
        "print(model_results)"
      ],
      "metadata": {
        "id": "5j5Axv01F3JM"
      },
      "execution_count": null,
      "outputs": []
    },
    {
      "cell_type": "markdown",
      "source": [
        "# ============================================================\n",
        "# OPTIMIZANDO RANDOM FOREST AJUSTANDO SUS HIPERPARAMETROS\n",
        "# ============================================================"
      ],
      "metadata": {
        "id": "I1g6w-CtF7MK"
      }
    },
    {
      "cell_type": "code",
      "source": [
        "data = rna.ModelSelection(data107)\n",
        "\n",
        "data.split_data()\n",
        "\n",
        "data.get_train_test_sample(test_size = 0.2, resample = True)\n",
        "\n",
        "data.standarize()\n",
        "\n",
        "random_forest = rna.model_.RandomForest('RF')\n",
        "\n",
        "random_forest.hyperparameter_tuning(data.get_X_train(), data.get_Y_train(), n_estimators = [10,50,100,500])\n",
        "\n",
        "random_forest.fit(data.get_X_train(), data.get_Y_train())\n",
        "\n",
        "predictions_proba = data.predict_proba(random_forest)\n",
        "predictions = data.get_predictions(predictions_proba, threshold = 0.5)\n",
        "\n",
        "metrics = random_forest.get_metrics(data.get_Y_test(), predictions, predictions_proba)\n",
        "\n",
        "print(metrics)"
      ],
      "metadata": {
        "id": "3AdNQO_iF_zy"
      },
      "execution_count": null,
      "outputs": []
    },
    {
      "cell_type": "markdown",
      "source": [
        "# ========================================================\n",
        "# CURVA PRECISION-RECALL\n",
        "# ========================================================"
      ],
      "metadata": {
        "id": "GpRPrT7qGDOe"
      }
    },
    {
      "cell_type": "code",
      "source": [
        "fig = rna.plot_prec_recall_vs_thresh(data.get_Y_test() , predictions_proba)\n",
        "\n",
        "# rna.show_figure(fig, xlabel = \"Threshold\", title = 'Precision-Recall vs Tresholds Curve')\n",
        "\n",
        "rna.save_image(fig, fig_name=\"prec_recall_vs_thresh\", xlabel = \"Threshold\", title = 'Precision-Recall vs Tresholds Curve')"
      ],
      "metadata": {
        "id": "Lk6oyEjkGJjg"
      },
      "execution_count": null,
      "outputs": []
    },
    {
      "cell_type": "markdown",
      "source": [
        "# ============================================================\n",
        "# MATRIZ DE CONFUSION\n",
        "# ============================================================"
      ],
      "metadata": {
        "id": "ecjpren8GMXL"
      }
    },
    {
      "cell_type": "code",
      "source": [
        "cm = data.confusion_matrix(predictions)\n",
        "\n",
        "fig = rna.plot_confusion_matrix(cm)\n",
        "\n",
        "#rna.show_figure(fig, title = \"Confussion Matrix\")\n",
        "\n",
        "rna.save_image(fig, fig_name =\"confussion_matrix\", title=\"Confussion Matrix\")"
      ],
      "metadata": {
        "id": "Io7p7yoPGQcu"
      },
      "execution_count": null,
      "outputs": []
    },
    {
      "cell_type": "markdown",
      "source": [
        "# ============================================================\n",
        "# CURVA ROC\n",
        "# ============================================================"
      ],
      "metadata": {
        "id": "1AJdwA9GGVAQ"
      }
    },
    {
      "cell_type": "code",
      "source": [
        "roc_auc = data.calc_auc(predictions)\n",
        "title = \"ROC CURVE \" + f'(AUC={roc_auc:.4f})'\n",
        "\n",
        "fig = rna.plot_roc(data.get_Y_test(),predictions_proba)\n",
        "# rna.show_figure(fig, xlabel = \"False Positive Rate\", ylabel = \"True Positive Rate\",\n",
        "#                          x_ini_range = 0, x_fin_range = 1,\n",
        "#                          y_ini_range = 0, y_fin_range = 1, title = title)\n",
        "\n",
        "rna.save_image(fig, fig_name=\"roc\", xlabel = \"False Positive Rate\", ylabel = \"True Positive Rate\",\n",
        "                          x_ini_range = 0, x_fin_range = 1,\n",
        "                          y_ini_range = 0, y_fin_range = 1, title = title)"
      ],
      "metadata": {
        "id": "maIg7LwpGZgo"
      },
      "execution_count": null,
      "outputs": []
    },
    {
      "cell_type": "markdown",
      "source": [
        "# ============================================================\n",
        "# CURVA PRECISION-RECALL\n",
        "# ============================================================"
      ],
      "metadata": {
        "id": "__SVH0kkGdKq"
      }
    },
    {
      "cell_type": "code",
      "source": [
        "pr_auc = data.calc_auc(predictions, curve = \"precision-recall\")\n",
        "title = \"PR CURVE \" + f'(AUC={pr_auc:.4f})'\n",
        "\n",
        "fig = rna.plot_prc(data.get_Y_test(),predictions_proba)\n",
        "#rna.show_figure(fig, xlabel = \"Recall\", ylabel = \"Precision\", x_ini_range = 0, x_fin_range = 1,\n",
        "#                    y_ini_range = 0, y_fin_range = 1, title = 'PR Curve')\n",
        "\n",
        "rna.save_image(fig, fig_name=\"prc\", xlabel = \"Recall\", ylabel = \"Precision\", x_ini_range = 0, x_fin_range = 1,\n",
        "                    y_ini_range = 0, y_fin_range = 1, title = 'PR Curve')"
      ],
      "metadata": {
        "id": "F8x4gE9QGhcR"
      },
      "execution_count": null,
      "outputs": []
    }
  ]
}